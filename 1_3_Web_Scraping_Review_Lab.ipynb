{
  "cells": [
    {
      "cell_type": "markdown",
      "metadata": {
        "id": "m_2X7W93jkCi"
      },
      "source": [
        "<p style=\"text-align:center\">\n",
        "    <a href=\"https://skills.network/?utm_medium=Exinfluencer&utm_source=Exinfluencer&utm_content=000026UJ&utm_term=10006555&utm_id=NA-SkillsNetwork-Channel-SkillsNetworkCoursesIBMDA0321ENSkillsNetwork21426264-2022-01-01\" target=\"_blank\">\n",
        "    <img src=\"https://cf-courses-data.s3.us.cloud-object-storage.appdomain.cloud/assets/logos/SN_web_lightmode.png\" width=\"200\" alt=\"Skills Network Logo\"  />\n",
        "    </a>\n",
        "</p>\n"
      ]
    },
    {
      "cell_type": "markdown",
      "metadata": {
        "id": "hrrOEfgWjkCy"
      },
      "source": [
        "# **Web Scraping Lab**\n"
      ]
    },
    {
      "cell_type": "markdown",
      "metadata": {
        "id": "_dVZztdJjkC0"
      },
      "source": [
        "Estimated time needed: **30** minutes\n"
      ]
    },
    {
      "cell_type": "markdown",
      "metadata": {
        "id": "KuruQZeljkC1"
      },
      "source": [
        "## Objectives\n"
      ]
    },
    {
      "cell_type": "markdown",
      "metadata": {
        "id": "iEihQWqajkC3"
      },
      "source": [
        "After completing this lab you will be able to:\n"
      ]
    },
    {
      "cell_type": "markdown",
      "metadata": {
        "id": "95Qgl09hjkC4"
      },
      "source": [
        "*   Download a webpage using requests module\n",
        "*   Scrape all links from a web page\n",
        "*   Scrape all image urls from a web page\n",
        "*   Scrape data from html tables\n"
      ]
    },
    {
      "cell_type": "markdown",
      "metadata": {
        "id": "IiBUDJ6rjkC5"
      },
      "source": [
        "## Scrape [www.ibm.com](http://www.ibm.com/?utm_medium=Exinfluencer&utm_source=Exinfluencer&utm_content=000026UJ&utm_term=10006555&utm_id=NA-SkillsNetwork-Channel-SkillsNetworkCoursesIBMDA0321ENSkillsNetwork21426264-2022-01-01)\n"
      ]
    },
    {
      "cell_type": "markdown",
      "metadata": {
        "id": "ezG_UawVjkC8"
      },
      "source": [
        "Import the required modules and functions\n"
      ]
    },
    {
      "cell_type": "code",
      "execution_count": 1,
      "metadata": {
        "id": "90kVTApqjkC-"
      },
      "outputs": [],
      "source": [
        "from bs4 import BeautifulSoup # this module helps in web scrapping.\n",
        "import requests  # this module helps us to download a web page"
      ]
    },
    {
      "cell_type": "markdown",
      "metadata": {
        "id": "yjo7C9exjkDC"
      },
      "source": [
        "Download the contents of the web page\n"
      ]
    },
    {
      "cell_type": "code",
      "execution_count": 2,
      "metadata": {
        "id": "QMpMp0JCjkDD"
      },
      "outputs": [],
      "source": [
        "url = \"http://www.ibm.com\""
      ]
    },
    {
      "cell_type": "code",
      "execution_count": 3,
      "metadata": {
        "id": "YR5GM-WnjkDF"
      },
      "outputs": [],
      "source": [
        "# get the contents of the webpage in text format and store in a variable called data\n",
        "data  = requests.get(url).text "
      ]
    },
    {
      "cell_type": "markdown",
      "metadata": {
        "id": "ZtjlRAhojkDG"
      },
      "source": [
        "Create a soup object using the class BeautifulSoup\n"
      ]
    },
    {
      "cell_type": "code",
      "execution_count": 4,
      "metadata": {
        "id": "zOd36Uc5jkDH"
      },
      "outputs": [],
      "source": [
        "soup = BeautifulSoup(data,\"html5lib\")  # create a soup object using the variable 'data'"
      ]
    },
    {
      "cell_type": "markdown",
      "metadata": {
        "id": "Pje16n8PjkDI"
      },
      "source": [
        "Scrape all links\n"
      ]
    },
    {
      "cell_type": "code",
      "execution_count": 5,
      "metadata": {
        "colab": {
          "base_uri": "https://localhost:8080/"
        },
        "id": "awylMZB-jkDJ",
        "outputId": "5ac9de12-839d-4013-96ac-9ac4204f4b3b"
      },
      "outputs": [
        {
          "output_type": "stream",
          "name": "stdout",
          "text": [
            "https://www.ibm.com/tw/en\n",
            "https://www.ibm.com/sitemap/tw/en\n",
            "https://www.ibm.com/tw-en/products/linuxone-emperor-4\n",
            "https://www.ibm.com/tw-en/about/automation\n",
            "https://www.ibm.com/tw-en/cloud/campaign/cloud-simplicity\n",
            "https://www.ibm.com/consulting/\n",
            "https://www.ibm.com/tw-en/analytics/data-fabric\n",
            "https://www.ibm.com/tw-en/about/secure-your-business\n",
            "https://www.ibm.com/thought-leadership/institute-business-value/c-suite-study/ceo\n",
            "https://www.ibm.com/case-studies/alliance-to-end-plastic-waste/?lnk=sghpv18f1\n",
            "https://www.ibm.com/resources/the-data-differentiator/?lnk=sghpv18f2\n",
            "https://www.ibm.com/it-infrastructure/us-en/resources/hybrid-multicloud-infrastructure-strategy?lnk=sghpv18f3\n",
            "https://www.ibm.com/security/data-breach/threat-intelligence/?lnk=sghpv18f4\n",
            "/products/offers-and-discounts?lnk=hpv18t5\n",
            "/tw-en/cloud/free?lnk=STW_SG_HP_T1_BLK&psrc=NONE&pexp=DEF&lnk2=trial_Cloud\n",
            "https://www.ibm.com/tw-en/qradar\n",
            "https://www.ibm.com/tw-en/products/cloud-pak-for-data\n",
            "https://www.ibm.com/tw-en/products/maas360\n",
            "https://www.ibm.com/tw-en/products/watson-assistant\n",
            "https://www.ibm.com/tw-en/storage/flash\n",
            "https://www.ibm.com/account/reg/us-en/signup?formid=urx-45706\n",
            "https://www.ibm.com/tw-en/cloud/free\n",
            "https://developer.ibm.com/depmodels/cloud/?lnk=hpv18ct16\n",
            "https://developer.ibm.com/technologies/artificial-intelligence?lnk=hpv18ct19\n",
            "https://developer.ibm.com/?lnk=hpv18ct9\n",
            "https://www.ibm.com/docs/en?lnk=hpv18ct14\n",
            "https://www.redbooks.ibm.com/?lnk=ushpv18ct10\n",
            "https://www.ibm.com/support/home/?lnk=hpv18ct11\n",
            "https://www.ibm.com/training/?lnk=hpv18ct15\n",
            "https://www.ibm.com/consulting/\n",
            "/hybrid-cloud\n",
            "https://www.ibm.com/tw-en/watson\n",
            "https://www.ibm.com/tw-en/garage\n",
            "https://www.ibm.com/tw-en/storage\n",
            "https://www.ibm.com/thought-leadership/institute-business-value\n",
            "https://www.ibm.com/tw-en/analytics\n",
            "https://www.ibm.com/tw-en/security?\n",
            "https://www.ibm.com/tw-en/financing\n",
            "/hybrid-cloud\n",
            "https://www.ibm.com/tw-en/security/zero-trust\n",
            "/cloud/learn/public-cloud\n",
            "/tw-en/cloud/redhat\n",
            "https://www.ibm.com/tw-en/watson\n",
            "https://www.ibm.com/quantum\n",
            "/cloud/learn/kubernetes\n",
            "https://www.ibm.com/tw-en/products/spss-statistics\n",
            "https://www.ibm.com/tw-en/blockchain?\n",
            "https://www.ibm.com/tw-zh/employment/\n",
            "https://www.ibm.com/case-studies/tetherfi/?lnk=sghpv18cs1\n",
            "https://www.ibm.com/case-studies/search?lnk=hpv18cs2\n",
            "#\n"
          ]
        }
      ],
      "source": [
        "for link in soup.find_all('a'):  # in html anchor/link is represented by the tag <a>\n",
        "    print(link.get('href'))"
      ]
    },
    {
      "cell_type": "markdown",
      "metadata": {
        "id": "XmJpxULljkDK"
      },
      "source": [
        "Scrape  all images\n"
      ]
    },
    {
      "cell_type": "code",
      "execution_count": 6,
      "metadata": {
        "colab": {
          "base_uri": "https://localhost:8080/"
        },
        "id": "G25agXW0jkDL",
        "outputId": "7a60a64d-69af-47b3-9509-bbba60ab8865"
      },
      "outputs": [
        {
          "output_type": "stream",
          "name": "stdout",
          "text": [
            "//1.cms.s81c.com/sites/default/files/2022-08-03/AIOPS.jpg\n",
            "//1.cms.s81c.com/sites/default/files/2022-08-03/Simply%20your%20Infrastructure.jpg\n",
            "//1.cms.s81c.com/sites/default/files/2022-08-03/Consulting_0_0.jpg\n",
            "//1.cms.s81c.com/sites/default/files/2022-08-04/2022031-ls-data-driven-mobile-720x360%20%283%29.jpg\n",
            "//1.cms.s81c.com/sites/default/files/2022-08-04/Secure.jpg\n",
            "//1.cms.s81c.com/sites/default/files/2022-08-05/AEPW%20image2.jpg\n",
            "//1.cms.s81c.com/sites/default/files/2022-08-05/20220620-26721%20digital-data-guide-differentiator-444x333_1.jpg\n",
            "//1.cms.s81c.com/sites/default/files/2022-08-05/Original-20220316-26479-Forrester-Modernize-444x320%20%281%29.jpg\n",
            "//1.cms.s81c.com/sites/default/files/2022-08-05/02baae8d-eb04-4ae7-8cab02853f251e43.jpg\n",
            "//1.cms.s81c.com/sites/default/files/2021-04-07/ibm-cloud-trial.png\n",
            "//1.cms.s81c.com/sites/default/files/2022-08-04/QRadar-on-Cloud-21400-700x420%20%281%29.png\n",
            "//1.cms.s81c.com/sites/default/files/2021-04-07/cloud-pak-for-data-trial.png\n",
            "//1.cms.s81c.com/sites/default/files/2022-08-05/10072019-t-bt-MaaS360-watson-23210-700x420_0.png\n",
            "//1.cms.s81c.com/sites/default/files/2021-04-15/watson-assistant-trial_0_0.png\n",
            "//1.cms.s81c.com/sites/default/files/2022-08-05/Flash-System-5000-trial-444x266.png\n",
            "//1.cms.s81c.com/sites/default/files/2022-08-05/cloud-pak-for-automation-trial-444x254-v2_1.png\n"
          ]
        }
      ],
      "source": [
        "for link in soup.find_all('img'):# in html image is represented by the tag <img>\n",
        "    print(link.get('src'))"
      ]
    },
    {
      "cell_type": "markdown",
      "metadata": {
        "id": "TV_CVsPBjkDM"
      },
      "source": [
        "## Scrape data from html tables\n"
      ]
    },
    {
      "cell_type": "code",
      "execution_count": 7,
      "metadata": {
        "id": "vaennX35jkDM"
      },
      "outputs": [],
      "source": [
        "#The below url contains a html table with data about colors and color codes."
      ]
    },
    {
      "cell_type": "code",
      "execution_count": 8,
      "metadata": {
        "id": "e-FMuW9cjkDN"
      },
      "outputs": [],
      "source": [
        "url = \"https://cf-courses-data.s3.us.cloud-object-storage.appdomain.cloud/IBM-DA0321EN-SkillsNetwork/labs/datasets/HTMLColorCodes.html\""
      ]
    },
    {
      "cell_type": "markdown",
      "metadata": {
        "id": "jzqvDZLXjkDO"
      },
      "source": [
        "Before proceeding to scrape a web site, you need to examine the contents, and the way data is organized on the website. Open the above url in your browser and check how many rows and columns are there in the color table.\n"
      ]
    },
    {
      "cell_type": "code",
      "execution_count": 9,
      "metadata": {
        "id": "mEejdd-wjkDP"
      },
      "outputs": [],
      "source": [
        "# get the contents of the webpage in text format and store in a variable called data\n",
        "data  = requests.get(url).text"
      ]
    },
    {
      "cell_type": "code",
      "execution_count": 10,
      "metadata": {
        "id": "JkPyICY-jkDQ"
      },
      "outputs": [],
      "source": [
        "soup = BeautifulSoup(data,\"html5lib\")"
      ]
    },
    {
      "cell_type": "code",
      "execution_count": 11,
      "metadata": {
        "id": "nXBINbvPjkDQ"
      },
      "outputs": [],
      "source": [
        "#find a html table in the web page\n",
        "table = soup.find('table') # in html table is represented by the tag <table>"
      ]
    },
    {
      "cell_type": "code",
      "execution_count": 12,
      "metadata": {
        "colab": {
          "base_uri": "https://localhost:8080/"
        },
        "id": "h8jskL2WjkDR",
        "outputId": "2772cd33-fd0e-48d5-e62d-d07fbdf2f65b"
      },
      "outputs": [
        {
          "output_type": "stream",
          "name": "stdout",
          "text": [
            "Color Name--->Hex Code#RRGGBB\n",
            "lightsalmon--->#FFA07A\n",
            "salmon--->#FA8072\n",
            "darksalmon--->#E9967A\n",
            "lightcoral--->#F08080\n",
            "coral--->#FF7F50\n",
            "tomato--->#FF6347\n",
            "orangered--->#FF4500\n",
            "gold--->#FFD700\n",
            "orange--->#FFA500\n",
            "darkorange--->#FF8C00\n",
            "lightyellow--->#FFFFE0\n",
            "lemonchiffon--->#FFFACD\n",
            "papayawhip--->#FFEFD5\n",
            "moccasin--->#FFE4B5\n",
            "peachpuff--->#FFDAB9\n",
            "palegoldenrod--->#EEE8AA\n",
            "khaki--->#F0E68C\n",
            "darkkhaki--->#BDB76B\n",
            "yellow--->#FFFF00\n",
            "lawngreen--->#7CFC00\n",
            "chartreuse--->#7FFF00\n",
            "limegreen--->#32CD32\n",
            "lime--->#00FF00\n",
            "forestgreen--->#228B22\n",
            "green--->#008000\n",
            "powderblue--->#B0E0E6\n",
            "lightblue--->#ADD8E6\n",
            "lightskyblue--->#87CEFA\n",
            "skyblue--->#87CEEB\n",
            "deepskyblue--->#00BFFF\n",
            "lightsteelblue--->#B0C4DE\n",
            "dodgerblue--->#1E90FF\n"
          ]
        }
      ],
      "source": [
        "#Get all rows from the table\n",
        "for row in table.find_all('tr'): # in html table row is represented by the tag <tr>\n",
        "    # Get all columns in each row.\n",
        "    cols = row.find_all('td') # in html a column is represented by the tag <td>\n",
        "    color_name = cols[2].getText() # store the value in column 3 as color_name\n",
        "    color_code = cols[3].getText() # store the value in column 4 as color_code\n",
        "    print(\"{}--->{}\".format(color_name,color_code))"
      ]
    },
    {
      "cell_type": "markdown",
      "metadata": {
        "id": "yrrSzEEHjkDS"
      },
      "source": [
        "## Authors\n"
      ]
    },
    {
      "cell_type": "markdown",
      "metadata": {
        "id": "fmBg-NhEjkDT"
      },
      "source": [
        "Ramesh Sannareddy\n"
      ]
    },
    {
      "cell_type": "markdown",
      "metadata": {
        "id": "EbQXBmeZjkDT"
      },
      "source": [
        "### Other Contributors\n"
      ]
    },
    {
      "cell_type": "markdown",
      "metadata": {
        "id": "P10z14CvjkDU"
      },
      "source": [
        "Rav Ahuja\n"
      ]
    },
    {
      "cell_type": "markdown",
      "metadata": {
        "id": "84jjdHGTjkDU"
      },
      "source": [
        "## Change Log\n"
      ]
    },
    {
      "cell_type": "markdown",
      "metadata": {
        "id": "Yd_6aq0cjkDV"
      },
      "source": [
        "| Date (YYYY-MM-DD) | Version | Changed By        | Change Description                 |\n",
        "| ----------------- | ------- | ----------------- | ---------------------------------- |\n",
        "| 2020-10-17        | 0.1     | Ramesh Sannareddy | Created initial version of the lab |\n"
      ]
    },
    {
      "cell_type": "markdown",
      "metadata": {
        "id": "HAya3mnSjkDV"
      },
      "source": [
        "Copyright © 2020 IBM Corporation. This notebook and its source code are released under the terms of the [MIT License](https://cognitiveclass.ai/mit-license/?utm_medium=Exinfluencer&utm_source=Exinfluencer&utm_content=000026UJ&utm_term=10006555&utm_id=NA-SkillsNetwork-Channel-SkillsNetworkCoursesIBMDA0321ENSkillsNetwork21426264-2022-01-01).\n"
      ]
    }
  ],
  "metadata": {
    "kernelspec": {
      "display_name": "Python 3",
      "language": "python",
      "name": "python3"
    },
    "language_info": {
      "codemirror_mode": {
        "name": "ipython",
        "version": 3
      },
      "file_extension": ".py",
      "mimetype": "text/x-python",
      "name": "python",
      "nbconvert_exporter": "python",
      "pygments_lexer": "ipython3",
      "version": "3.7.6"
    },
    "colab": {
      "provenance": []
    }
  },
  "nbformat": 4,
  "nbformat_minor": 0
}